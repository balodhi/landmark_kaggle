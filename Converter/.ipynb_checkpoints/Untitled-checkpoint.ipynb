{
 "cells": [
  {
   "cell_type": "code",
   "execution_count": 26,
   "metadata": {},
   "outputs": [],
   "source": [
    "import pickle"
   ]
  },
  {
   "cell_type": "code",
   "execution_count": 28,
   "metadata": {},
   "outputs": [
    {
     "name": "stdout",
     "output_type": "stream",
     "text": [
      "228\n",
      "2\n",
      "('9674', '8309')\n",
      "('895bc59463e7ed88', '00f6ff042eb6160a')\n",
      "('1101866', '873428')\n",
      "('/media/hwejin/SSD_1/Code/Github/landmark_kaggle/here_/1101866.jpg', '/media/hwejin/SSD_1/Code/Github/landmark_kaggle/here_/873428.jpg')\n"
     ]
    }
   ],
   "source": [
    "f = open('/media/hwejin/SSD_1/Code/Github/landmark_kaggle/vectors/train/91_output.pickle')\n",
    "aa = pickle.load(f)\n",
    "f.close()\n",
    "\n",
    "for batch in aa:\n",
    "    print len(batch[0][0])\n",
    "    print len(batch[0])\n",
    "    print batch[1]\n",
    "    print batch[2]\n",
    "    print batch[3]\n",
    "    print batch[4]\n",
    "    break"
   ]
  },
  {
   "cell_type": "code",
   "execution_count": null,
   "metadata": {},
   "outputs": [],
   "source": []
  }
 ],
 "metadata": {
  "kernelspec": {
   "display_name": "Python 2",
   "language": "python",
   "name": "python2"
  },
  "language_info": {
   "codemirror_mode": {
    "name": "ipython",
    "version": 2
   },
   "file_extension": ".py",
   "mimetype": "text/x-python",
   "name": "python",
   "nbconvert_exporter": "python",
   "pygments_lexer": "ipython2",
   "version": "2.7.12"
  }
 },
 "nbformat": 4,
 "nbformat_minor": 2
}
